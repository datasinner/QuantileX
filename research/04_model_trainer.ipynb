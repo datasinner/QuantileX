{
 "cells": [
  {
   "cell_type": "code",
   "execution_count": 1,
   "metadata": {},
   "outputs": [],
   "source": [
    "import os"
   ]
  },
  {
   "cell_type": "code",
   "execution_count": 2,
   "metadata": {},
   "outputs": [
    {
     "data": {
      "text/plain": [
       "'/Users/c5367983/Desktop/Projects/QuantileX/research'"
      ]
     },
     "execution_count": 2,
     "metadata": {},
     "output_type": "execute_result"
    }
   ],
   "source": [
    "%pwd"
   ]
  },
  {
   "cell_type": "code",
   "execution_count": 3,
   "metadata": {},
   "outputs": [],
   "source": [
    "os.chdir(\"../\")"
   ]
  },
  {
   "cell_type": "code",
   "execution_count": 4,
   "metadata": {},
   "outputs": [
    {
     "data": {
      "text/plain": [
       "'/Users/c5367983/Desktop/Projects/QuantileX'"
      ]
     },
     "execution_count": 4,
     "metadata": {},
     "output_type": "execute_result"
    }
   ],
   "source": [
    "%pwd"
   ]
  },
  {
   "cell_type": "code",
   "execution_count": 5,
   "metadata": {},
   "outputs": [],
   "source": [
    "from src.constants import *\n",
    "from src.utils.common import read_yaml, create_directories"
   ]
  },
  {
   "cell_type": "code",
   "execution_count": 6,
   "metadata": {},
   "outputs": [],
   "source": [
    "from dataclasses import dataclass\n",
    "from pathlib import Path\n",
    "\n",
    "@dataclass(frozen=True)\n",
    "class ModelTrainerConfig:\n",
    "    root_dir: Path\n",
    "    data_path: Path\n",
    "    output_path: Path\n",
    "    assets_type: str\n",
    "    alpha: float\n",
    "    \n"
   ]
  },
  {
   "cell_type": "code",
   "execution_count": 7,
   "metadata": {},
   "outputs": [],
   "source": [
    "from sklearn.model_selection import TimeSeriesSplit\n",
    "from sklearn.linear_model import Lasso, Ridge\n",
    "from joblib import dump, load\n",
    "from sklearn.metrics import mean_absolute_error  \n",
    "from sklearn.metrics import mean_squared_error   \n",
    "from sklearn.metrics import r2_score             \n",
    "import pandas as pd\n",
    "import numpy as np"
   ]
  },
  {
   "cell_type": "code",
   "execution_count": 8,
   "metadata": {},
   "outputs": [],
   "source": [
    "class ConfigurationManager:\n",
    "    def __init__(\n",
    "        self, config_filepath=CONFIG_FILE_PATH, params_filepath=PARAMS_FILE_PATH\n",
    "    ):\n",
    "        self.config = read_yaml(config_filepath)\n",
    "        self.params = read_yaml(params_filepath)\n",
    "\n",
    "        create_directories([self.config.artifacts_root])\n",
    "\n",
    "    def get_model_trainer_config(self) -> ModelTrainerConfig:\n",
    "        config = self.config.model_trainer\n",
    "        params = self.params.TrainingArguments\n",
    "\n",
    "        create_directories([config.root_dir + \"/\" + config.assets_type])\n",
    "        create_directories([config.output_path])\n",
    "\n",
    "        model_trainer_config = ModelTrainerConfig(\n",
    "            root_dir=config.root_dir,\n",
    "            data_path=config.data_path,\n",
    "            output_path=config.output_path,\n",
    "            assets_type=config.assets_type,\n",
    "            alpha=params.alpha\n",
    "        )\n",
    "        return model_trainer_config\n",
    "    \n"
   ]
  },
  {
   "cell_type": "code",
   "execution_count": 9,
   "metadata": {},
   "outputs": [],
   "source": [
    "class ModelTrainer:\n",
    "    def __init__(self, config: ModelTrainerConfig):\n",
    "        self.config = config\n",
    "        self.data_frame = pd.read_csv(f\"{self.config.data_path}/{self.config.assets_type}.csv\")\n",
    "        self.data_frame['Date'] = pd.to_datetime(self.data_frame['Date'])\n",
    "        self.data_frame['Close'] = self.data_frame['Close'].shift(-1)\n",
    "        self.data_frame = self.data_frame.set_index('Date')\n",
    "        self.last_row = self.data_frame.tail(1).drop(\"Close\",axis=1)\n",
    "        self.data_frame.drop(self.data_frame.index[-1],inplace = True)\n",
    "        self.y = self.data_frame['Close']\n",
    "        self.X = self.data_frame.drop('Close', axis = 1)\n",
    "        self.metrics = {\"MSE\":[], \"MAE\":[], \"r2\":[]}\n",
    "\n",
    "    def train(self):\n",
    "        tscv = TimeSeriesSplit(n_splits=5)\n",
    "        lasso_model = Lasso(alpha=0.1)\n",
    "        for train_index, test_index in tscv.split(self.X):\n",
    "            #print(f\"Train index: {train_index}\")\n",
    "            X_train, X_test = self.X.iloc[train_index], self.X.iloc[test_index]\n",
    "            y_train, y_test = self.y.iloc[train_index], self.y.iloc[test_index]\n",
    "            \n",
    "            lasso_model.fit(X_train, y_train)\n",
    "            predictions = lasso_model.predict(X_test)\n",
    "            mse = mean_squared_error(y_test, predictions)\n",
    "            mae = mean_absolute_error(y_test, predictions)\n",
    "            r2 = r2_score(y_test, predictions)\n",
    "            print(f\"MSE: {mse:.4f}, MAE: {mae:.4f}, R-squared: {r2:.4f}\")\n",
    "            self.metrics[\"MSE\"].append(mse)\n",
    "            self.metrics[\"MAE\"].append(mae)\n",
    "            self.metrics[\"r2\"].append(r2)\n",
    "        dump(lasso_model, f\"{self.config.root_dir}/{self.config.assets_type}/Lasso_for_close.joblib\")\n",
    "\n",
    "    def predict(self):\n",
    "        loaded_model = load(f\"{self.config.root_dir}/{self.config.assets_type}/Lasso_for_close.joblib\")\n",
    "        close_prediction = loaded_model.predict(self.last_row)\n",
    "        close_low = float(close_prediction[0]) - float(self.metrics[\"MAE\"][-1])\n",
    "        close_high = float(close_prediction[0]) + float(self.metrics[\"MAE\"][-1])\n",
    "        final_output = {\"Close_prediction\":close_prediction[0], \"Close_low\":close_low, \"Close_high\":close_high}\n",
    "        df_output = pd.DataFrame([final_output])\n",
    "        df_output.to_json(f\"{self.config.output_path}/output_of_{self.config.assets_type}.json\", orient='records', lines=True, indent=4)\n",
    "    "
   ]
  },
  {
   "cell_type": "code",
   "execution_count": 10,
   "metadata": {},
   "outputs": [
    {
     "name": "stdout",
     "output_type": "stream",
     "text": [
      "[2024-02-25 22:36:16,012: INFO: common: yaml file: config/config.yaml loaded successfully]\n",
      "[2024-02-25 22:36:16,014: INFO: common: yaml file: params.yaml loaded successfully]\n",
      "[2024-02-25 22:36:16,014: INFO: common: Created directory at: artifacts]\n",
      "[2024-02-25 22:36:16,014: INFO: common: Created directory at: artifacts/model_trainer/BTC-USD]\n",
      "[2024-02-25 22:36:16,015: INFO: common: Created directory at: artifacts/output]\n",
      "MSE: 44893384.8340, MAE: 1906.9278, R-squared: -1.5253\n"
     ]
    },
    {
     "name": "stderr",
     "output_type": "stream",
     "text": [
      "/Users/c5367983/anaconda3/envs/quantilex/lib/python3.12/site-packages/sklearn/linear_model/_coordinate_descent.py:678: ConvergenceWarning: Objective did not converge. You might want to increase the number of iterations, check the scale of the features or consider increasing regularisation. Duality gap: 2.679e+04, tolerance: 8.664e+02\n",
      "  model = cd_fast.enet_coordinate_descent(\n",
      "/Users/c5367983/anaconda3/envs/quantilex/lib/python3.12/site-packages/sklearn/linear_model/_coordinate_descent.py:678: ConvergenceWarning: Objective did not converge. You might want to increase the number of iterations, check the scale of the features or consider increasing regularisation. Duality gap: 2.951e+07, tolerance: 1.248e+06\n",
      "  model = cd_fast.enet_coordinate_descent(\n"
     ]
    },
    {
     "name": "stdout",
     "output_type": "stream",
     "text": [
      "MSE: 1705359.1357, MAE: 1206.7196, R-squared: 0.6770\n"
     ]
    },
    {
     "name": "stderr",
     "output_type": "stream",
     "text": [
      "/Users/c5367983/anaconda3/envs/quantilex/lib/python3.12/site-packages/sklearn/linear_model/_coordinate_descent.py:678: ConvergenceWarning: Objective did not converge. You might want to increase the number of iterations, check the scale of the features or consider increasing regularisation. Duality gap: 5.353e+07, tolerance: 2.464e+06\n",
      "  model = cd_fast.enet_coordinate_descent(\n"
     ]
    },
    {
     "name": "stdout",
     "output_type": "stream",
     "text": [
      "MSE: 491635.6004, MAE: 442.1510, R-squared: 0.9907\n"
     ]
    },
    {
     "name": "stderr",
     "output_type": "stream",
     "text": [
      "/Users/c5367983/anaconda3/envs/quantilex/lib/python3.12/site-packages/sklearn/linear_model/_coordinate_descent.py:678: ConvergenceWarning: Objective did not converge. You might want to increase the number of iterations, check the scale of the features or consider increasing regularisation. Duality gap: 1.348e+08, tolerance: 8.533e+06\n",
      "  model = cd_fast.enet_coordinate_descent(\n"
     ]
    },
    {
     "name": "stdout",
     "output_type": "stream",
     "text": [
      "MSE: 2930769.4595, MAE: 1257.3033, R-squared: 0.9788\n"
     ]
    },
    {
     "name": "stderr",
     "output_type": "stream",
     "text": [
      "/Users/c5367983/anaconda3/envs/quantilex/lib/python3.12/site-packages/sklearn/linear_model/_coordinate_descent.py:678: ConvergenceWarning: Objective did not converge. You might want to increase the number of iterations, check the scale of the features or consider increasing regularisation. Duality gap: 8.008e+08, tolerance: 7.710e+07\n",
      "  model = cd_fast.enet_coordinate_descent(\n"
     ]
    },
    {
     "name": "stdout",
     "output_type": "stream",
     "text": [
      "MSE: 356895.5160, MAE: 398.8859, R-squared: 0.9953\n"
     ]
    }
   ],
   "source": [
    "try:\n",
    "    config = ConfigurationManager()\n",
    "    model_trainer_config = config.get_model_trainer_config()\n",
    "    model_trainer_config = ModelTrainer(config=model_trainer_config)\n",
    "    model_trainer_config.train()\n",
    "    model_trainer_config.predict()\n",
    "except Exception as e:\n",
    "    raise e"
   ]
  },
  {
   "cell_type": "code",
   "execution_count": 13,
   "metadata": {},
   "outputs": [],
   "source": [
    "import json\n",
    "import pandas as pd\n",
    "\n",
    "with open(\"artifacts/output/output_of_BTC-USD.json\", 'r') as file:\n",
    "    data = json.load(file)"
   ]
  },
  {
   "cell_type": "code",
   "execution_count": 14,
   "metadata": {},
   "outputs": [
    {
     "data": {
      "text/plain": [
       "{'Close_prediction': 50680.2146861188,\n",
       " 'Close_low': 50281.3288126065,\n",
       " 'Close_high': 51079.1005596312}"
      ]
     },
     "execution_count": 14,
     "metadata": {},
     "output_type": "execute_result"
    }
   ],
   "source": [
    "data"
   ]
  },
  {
   "cell_type": "code",
   "execution_count": null,
   "metadata": {},
   "outputs": [],
   "source": []
  }
 ],
 "metadata": {
  "kernelspec": {
   "display_name": "quantilex",
   "language": "python",
   "name": "python3"
  },
  "language_info": {
   "codemirror_mode": {
    "name": "ipython",
    "version": 3
   },
   "file_extension": ".py",
   "mimetype": "text/x-python",
   "name": "python",
   "nbconvert_exporter": "python",
   "pygments_lexer": "ipython3",
   "version": "3.12.1"
  }
 },
 "nbformat": 4,
 "nbformat_minor": 2
}
